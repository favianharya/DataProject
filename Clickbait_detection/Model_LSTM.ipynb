{
  "cells": [
    {
      "cell_type": "code",
      "execution_count": 1,
      "metadata": {
        "id": "Z8qRq82Pj7X7",
        "colab": {
          "base_uri": "https://localhost:8080/"
        },
        "outputId": "3c729e8c-4b2c-4145-b8c1-39f094f8fb6f"
      },
      "outputs": [
        {
          "output_type": "stream",
          "name": "stderr",
          "text": [
            "[nltk_data] Downloading package punkt to /root/nltk_data...\n",
            "[nltk_data]   Package punkt is already up-to-date!\n"
          ]
        },
        {
          "output_type": "execute_result",
          "data": {
            "text/plain": [
              "True"
            ]
          },
          "metadata": {},
          "execution_count": 1
        }
      ],
      "source": [
        "import pandas as pd\n",
        "import numpy as np\n",
        "import nltk\n",
        "from nltk.tokenize import word_tokenize\n",
        "from sklearn.model_selection import train_test_split\n",
        "from sklearn.metrics import accuracy_score, recall_score, precision_score, f1_score, roc_auc_score, log_loss\n",
        "from sklearn.metrics import classification_report, confusion_matrix\n",
        "from sklearn.feature_extraction.text import TfidfVectorizer\n",
        "from keras.preprocessing.text import Tokenizer\n",
        "from keras.preprocessing import sequence\n",
        "from keras.callbacks import EarlyStopping\n",
        "import matplotlib.pyplot as plt\n",
        "import seaborn as sns\n",
        "from wordcloud import WordCloud\n",
        "from sklearn import metrics\n",
        "nltk.download('punkt')"
      ]
    },
    {
      "cell_type": "code",
      "execution_count": 2,
      "metadata": {
        "id": "9_3zZtZSkC_f"
      },
      "outputs": [],
      "source": [
        "df_train = pd.read_csv(\"df_train.csv\")\n",
        "df_valid = pd.read_csv(\"df_valid.csv\")\n",
        "df_test = pd.read_csv(\"df_test.csv\")"
      ]
    },
    {
      "cell_type": "code",
      "source": [
        "df_train.info()"
      ],
      "metadata": {
        "colab": {
          "base_uri": "https://localhost:8080/"
        },
        "id": "eHbp6xdEHYfv",
        "outputId": "c06d2815-dc6e-4e69-e4db-2aab96e197fa"
      },
      "execution_count": 3,
      "outputs": [
        {
          "output_type": "stream",
          "name": "stdout",
          "text": [
            "<class 'pandas.core.frame.DataFrame'>\n",
            "RangeIndex: 25600 entries, 0 to 25599\n",
            "Data columns (total 5 columns):\n",
            " #   Column        Non-Null Count  Dtype \n",
            "---  ------        --------------  ----- \n",
            " 0   Unnamed: 0.1  25600 non-null  int64 \n",
            " 1   Unnamed: 0    25600 non-null  int64 \n",
            " 2   headline      25600 non-null  object\n",
            " 3   clickbait     25600 non-null  int64 \n",
            " 4   clean_text    25600 non-null  object\n",
            "dtypes: int64(3), object(2)\n",
            "memory usage: 1000.1+ KB\n"
          ]
        }
      ]
    },
    {
      "cell_type": "code",
      "execution_count": 4,
      "metadata": {
        "id": "_td6RQznsBCD"
      },
      "outputs": [],
      "source": [
        "max_words = 1000\n",
        "max_len = 150\n",
        "tok = Tokenizer(num_words=max_words)\n",
        "tok.fit_on_texts(df_train['clean_text'])\n",
        "sequences = tok.texts_to_sequences(df_train['clean_text'])\n",
        "sequences_matrix = sequence.pad_sequences(sequences,maxlen=max_len)\n",
        "valid_sequences = tok.texts_to_sequences(df_valid['clean_text'])\n",
        "valid_sequences_matrix = sequence.pad_sequences(valid_sequences,maxlen=max_len)\n"
      ]
    },
    {
      "cell_type": "code",
      "execution_count": 5,
      "metadata": {
        "id": "d3gu-vImsPpC",
        "colab": {
          "base_uri": "https://localhost:8080/"
        },
        "outputId": "fad2f4ad-0647-494f-95e1-c3e4f6c42b02"
      },
      "outputs": [
        {
          "output_type": "stream",
          "name": "stdout",
          "text": [
            "Model: \"model\"\n",
            "_________________________________________________________________\n",
            " Layer (type)                Output Shape              Param #   \n",
            "=================================================================\n",
            " inputs (InputLayer)         [(None, 150)]             0         \n",
            "                                                                 \n",
            " embedding (Embedding)       (None, 150, 50)           500000    \n",
            "                                                                 \n",
            " lstm (LSTM)                 (None, 64)                29440     \n",
            "                                                                 \n",
            " FC1 (Dense)                 (None, 256)               16640     \n",
            "                                                                 \n",
            " output (Dense)              (None, 1)                 257       \n",
            "                                                                 \n",
            "=================================================================\n",
            "Total params: 546337 (2.08 MB)\n",
            "Trainable params: 546337 (2.08 MB)\n",
            "Non-trainable params: 0 (0.00 Byte)\n",
            "_________________________________________________________________\n"
          ]
        }
      ],
      "source": [
        "import tensorflow as tf\n",
        "from tensorflow.keras.models import Model\n",
        "from tensorflow.keras.layers import Input, Embedding, LSTM, Dense\n",
        "from tensorflow.keras.optimizers import RMSprop\n",
        "\n",
        "# Define the RNN model\n",
        "def RNN(max_len, max_words):\n",
        "    inputs = Input(name='inputs', shape=[max_len])\n",
        "    layer = Embedding(max_words, 50, input_length=max_len)(inputs)\n",
        "    layer = LSTM(64)(layer)\n",
        "    layer = Dense(256, name='FC1')(layer)\n",
        "    outputs = Dense(1, activation='sigmoid', name='output')(layer)\n",
        "\n",
        "    model = Model(inputs=inputs, outputs=outputs)\n",
        "    return model\n",
        "\n",
        "# Define your max_len and max_words values\n",
        "max_len = 150 # Example value, replace with your actual maximum sequence length\n",
        "max_words = 10000  # Example value, replace with your actual vocabulary size\n",
        "\n",
        "# Create the RNN model\n",
        "model = RNN(max_len, max_words)\n",
        "model.summary()\n",
        "\n",
        "# Compile the model\n",
        "model.compile(loss='binary_crossentropy', optimizer=RMSprop(), metrics=['accuracy'])\n",
        "\n"
      ]
    },
    {
      "cell_type": "code",
      "source": [
        "from tensorflow.keras.utils import plot_model\n",
        "import matplotlib.pyplot as plt\n",
        "plot_model(model, show_shapes=True, show_layer_names=True)"
      ],
      "metadata": {
        "id": "g8EjAyiL2lv7",
        "colab": {
          "base_uri": "https://localhost:8080/",
          "height": 533
        },
        "outputId": "d4d093e0-4762-45a7-d664-f254bdc5587e"
      },
      "execution_count": 6,
      "outputs": [
        {
          "output_type": "execute_result",
          "data": {
            "image/png": "[encoded data removed]",
            "text/plain": [
              "<IPython.core.display.Image object>"
            ]
          },
          "metadata": {},
          "execution_count": 6
        }
      ]
    },
    {
      "cell_type": "code",
      "execution_count": 7,
      "metadata": {
        "id": "JnOofcgVs0UL",
        "colab": {
          "base_uri": "https://localhost:8080/"
        },
        "outputId": "49419b8e-2c1e-4589-e523-0a91a1c29c21"
      },
      "outputs": [
        {
          "output_type": "stream",
          "name": "stdout",
          "text": [
            "Epoch 1/50\n",
            "200/200 [==============================] - 23s 80ms/step - loss: 0.2259 - accuracy: 0.9019 - val_loss: 0.1298 - val_accuracy: 0.9522\n",
            "Epoch 2/50\n",
            "200/200 [==============================] - 2s 12ms/step - loss: 0.1034 - accuracy: 0.9613 - val_loss: 0.1284 - val_accuracy: 0.9559\n",
            "Epoch 3/50\n",
            "200/200 [==============================] - 2s 11ms/step - loss: 0.0957 - accuracy: 0.9644 - val_loss: 0.1300 - val_accuracy: 0.9541\n",
            "Epoch 4/50\n",
            "200/200 [==============================] - 2s 9ms/step - loss: 0.0917 - accuracy: 0.9664 - val_loss: 0.1259 - val_accuracy: 0.9534\n",
            "Epoch 5/50\n",
            "200/200 [==============================] - 3s 13ms/step - loss: 0.0869 - accuracy: 0.9677 - val_loss: 0.1291 - val_accuracy: 0.9550\n",
            "Epoch 6/50\n",
            "200/200 [==============================] - 2s 10ms/step - loss: 0.0836 - accuracy: 0.9688 - val_loss: 0.1333 - val_accuracy: 0.9553\n",
            "Epoch 7/50\n",
            "200/200 [==============================] - 2s 8ms/step - loss: 0.0857 - accuracy: 0.9688 - val_loss: 0.1317 - val_accuracy: 0.9563\n",
            "Epoch 8/50\n",
            "200/200 [==============================] - 2s 9ms/step - loss: 0.0801 - accuracy: 0.9707 - val_loss: 0.1293 - val_accuracy: 0.9544\n",
            "Epoch 9/50\n",
            "200/200 [==============================] - 2s 9ms/step - loss: 0.0755 - accuracy: 0.9736 - val_loss: 0.1360 - val_accuracy: 0.9559\n",
            "Epoch 10/50\n",
            "200/200 [==============================] - 2s 8ms/step - loss: 0.0724 - accuracy: 0.9742 - val_loss: 0.1324 - val_accuracy: 0.9544\n",
            "Epoch 11/50\n",
            "200/200 [==============================] - 2s 8ms/step - loss: 0.1188 - accuracy: 0.9567 - val_loss: 0.1600 - val_accuracy: 0.9394\n",
            "Epoch 12/50\n",
            "200/200 [==============================] - 2s 10ms/step - loss: 0.0997 - accuracy: 0.9623 - val_loss: 0.1398 - val_accuracy: 0.9534\n",
            "Epoch 13/50\n",
            "200/200 [==============================] - 2s 11ms/step - loss: 0.0695 - accuracy: 0.9759 - val_loss: 0.1342 - val_accuracy: 0.9553\n",
            "Epoch 14/50\n",
            "200/200 [==============================] - 2s 9ms/step - loss: 0.0663 - accuracy: 0.9770 - val_loss: 0.1455 - val_accuracy: 0.9534\n",
            "Epoch 15/50\n",
            "200/200 [==============================] - 2s 9ms/step - loss: 0.0663 - accuracy: 0.9770 - val_loss: 0.1384 - val_accuracy: 0.9547\n",
            "Epoch 16/50\n",
            "200/200 [==============================] - 2s 9ms/step - loss: 0.0795 - accuracy: 0.9741 - val_loss: 0.1341 - val_accuracy: 0.9575\n",
            "Epoch 17/50\n",
            "200/200 [==============================] - 2s 8ms/step - loss: 0.0628 - accuracy: 0.9772 - val_loss: 0.1404 - val_accuracy: 0.9538\n",
            "Epoch 18/50\n",
            "200/200 [==============================] - 2s 9ms/step - loss: 0.0603 - accuracy: 0.9788 - val_loss: 0.1534 - val_accuracy: 0.9563\n",
            "Epoch 19/50\n",
            "200/200 [==============================] - 2s 11ms/step - loss: 0.0586 - accuracy: 0.9796 - val_loss: 0.1531 - val_accuracy: 0.9544\n",
            "Epoch 20/50\n",
            "200/200 [==============================] - 2s 9ms/step - loss: 0.0567 - accuracy: 0.9798 - val_loss: 0.1540 - val_accuracy: 0.9525\n",
            "Epoch 21/50\n",
            "200/200 [==============================] - 2s 9ms/step - loss: 0.0549 - accuracy: 0.9809 - val_loss: 0.1477 - val_accuracy: 0.9550\n",
            "Epoch 22/50\n",
            "200/200 [==============================] - 2s 8ms/step - loss: 0.0530 - accuracy: 0.9817 - val_loss: 0.1609 - val_accuracy: 0.9550\n",
            "Epoch 23/50\n",
            "200/200 [==============================] - 2s 9ms/step - loss: 0.0516 - accuracy: 0.9820 - val_loss: 0.1505 - val_accuracy: 0.9538\n",
            "Epoch 24/50\n",
            "200/200 [==============================] - 2s 8ms/step - loss: 0.0493 - accuracy: 0.9830 - val_loss: 0.1644 - val_accuracy: 0.9513\n",
            "Epoch 25/50\n",
            "200/200 [==============================] - 2s 8ms/step - loss: 0.0480 - accuracy: 0.9831 - val_loss: 0.1532 - val_accuracy: 0.9541\n",
            "Epoch 26/50\n",
            "200/200 [==============================] - 2s 10ms/step - loss: 0.0504 - accuracy: 0.9823 - val_loss: 0.1577 - val_accuracy: 0.9516\n",
            "Epoch 27/50\n",
            "200/200 [==============================] - 2s 11ms/step - loss: 0.0456 - accuracy: 0.9836 - val_loss: 0.1667 - val_accuracy: 0.9525\n",
            "Epoch 28/50\n",
            "200/200 [==============================] - 2s 9ms/step - loss: 0.0438 - accuracy: 0.9854 - val_loss: 0.1765 - val_accuracy: 0.9519\n",
            "Epoch 29/50\n",
            "200/200 [==============================] - 2s 9ms/step - loss: 0.0407 - accuracy: 0.9857 - val_loss: 0.1862 - val_accuracy: 0.9519\n",
            "Epoch 30/50\n",
            "200/200 [==============================] - 2s 8ms/step - loss: 0.0399 - accuracy: 0.9862 - val_loss: 0.1776 - val_accuracy: 0.9513\n",
            "Epoch 31/50\n",
            "200/200 [==============================] - 2s 8ms/step - loss: 0.0382 - accuracy: 0.9876 - val_loss: 0.1741 - val_accuracy: 0.9516\n",
            "Epoch 32/50\n",
            "200/200 [==============================] - 2s 9ms/step - loss: 0.0361 - accuracy: 0.9873 - val_loss: 0.1970 - val_accuracy: 0.9488\n",
            "Epoch 33/50\n",
            "200/200 [==============================] - 2s 11ms/step - loss: 0.0378 - accuracy: 0.9873 - val_loss: 0.1963 - val_accuracy: 0.9494\n",
            "Epoch 34/50\n",
            "200/200 [==============================] - 2s 10ms/step - loss: 0.0334 - accuracy: 0.9882 - val_loss: 0.2011 - val_accuracy: 0.9481\n",
            "Epoch 35/50\n",
            "200/200 [==============================] - 2s 8ms/step - loss: 0.0318 - accuracy: 0.9890 - val_loss: 0.2177 - val_accuracy: 0.9478\n",
            "Epoch 36/50\n",
            "200/200 [==============================] - 2s 8ms/step - loss: 0.0731 - accuracy: 0.9870 - val_loss: 0.2115 - val_accuracy: 0.9453\n",
            "Epoch 37/50\n",
            "200/200 [==============================] - 2s 8ms/step - loss: 0.0298 - accuracy: 0.9898 - val_loss: 0.2117 - val_accuracy: 0.9409\n",
            "Epoch 38/50\n",
            "200/200 [==============================] - 2s 8ms/step - loss: 0.0278 - accuracy: 0.9906 - val_loss: 0.2331 - val_accuracy: 0.9406\n",
            "Epoch 39/50\n",
            "200/200 [==============================] - 2s 8ms/step - loss: 0.1566 - accuracy: 0.9551 - val_loss: 0.1796 - val_accuracy: 0.9541\n",
            "Epoch 40/50\n",
            "200/200 [==============================] - 2s 10ms/step - loss: 0.0603 - accuracy: 0.9812 - val_loss: 0.1933 - val_accuracy: 0.9481\n",
            "Epoch 41/50\n",
            "200/200 [==============================] - 2s 11ms/step - loss: 0.0286 - accuracy: 0.9900 - val_loss: 0.2337 - val_accuracy: 0.9441\n",
            "Epoch 42/50\n",
            "200/200 [==============================] - 2s 9ms/step - loss: 0.0260 - accuracy: 0.9910 - val_loss: 0.2398 - val_accuracy: 0.9441\n",
            "Epoch 43/50\n",
            "200/200 [==============================] - 2s 8ms/step - loss: 0.0244 - accuracy: 0.9916 - val_loss: 0.2584 - val_accuracy: 0.9456\n",
            "Epoch 44/50\n",
            "200/200 [==============================] - 2s 8ms/step - loss: 0.1624 - accuracy: 0.9629 - val_loss: 0.1775 - val_accuracy: 0.9503\n",
            "Epoch 45/50\n",
            "200/200 [==============================] - 2s 8ms/step - loss: 0.0901 - accuracy: 0.9679 - val_loss: 0.1886 - val_accuracy: 0.9481\n",
            "Epoch 46/50\n",
            "200/200 [==============================] - 2s 8ms/step - loss: 0.0404 - accuracy: 0.9854 - val_loss: 0.2104 - val_accuracy: 0.9400\n",
            "Epoch 47/50\n",
            "200/200 [==============================] - 2s 9ms/step - loss: 0.0255 - accuracy: 0.9911 - val_loss: 0.2416 - val_accuracy: 0.9459\n",
            "Epoch 48/50\n",
            "200/200 [==============================] - 2s 11ms/step - loss: 0.0231 - accuracy: 0.9920 - val_loss: 0.2544 - val_accuracy: 0.9366\n",
            "Epoch 49/50\n",
            "200/200 [==============================] - 2s 9ms/step - loss: 0.0212 - accuracy: 0.9929 - val_loss: 0.2787 - val_accuracy: 0.9409\n",
            "Epoch 50/50\n",
            "200/200 [==============================] - 2s 8ms/step - loss: 0.0214 - accuracy: 0.9933 - val_loss: 0.2811 - val_accuracy: 0.9422\n"
          ]
        }
      ],
      "source": [
        "lstm = model.fit(sequences_matrix,df_train['clickbait'],batch_size=128,epochs=50,validation_data=(valid_sequences_matrix,df_valid['clickbait']))"
      ]
    },
    {
      "cell_type": "code",
      "execution_count": 8,
      "metadata": {
        "id": "20S_LHrCuK0k"
      },
      "outputs": [],
      "source": [
        "test_sequences = tok.texts_to_sequences(df_test['clean_text'])\n",
        "test_sequences_matrix = sequence.pad_sequences(test_sequences,maxlen=max_len)"
      ]
    },
    {
      "cell_type": "code",
      "execution_count": 9,
      "metadata": {
        "id": "A-dBqSixuvJx"
      },
      "outputs": [],
      "source": [
        "# accr = model.evaluate(test_sequences_matrix,y_test)"
      ]
    },
    {
      "cell_type": "code",
      "execution_count": 10,
      "metadata": {
        "id": "EiinbQy6w1ZR",
        "colab": {
          "base_uri": "https://localhost:8080/"
        },
        "outputId": "e4415afe-1d70-465f-fd65-b8e3eda61118"
      },
      "outputs": [
        {
          "output_type": "stream",
          "name": "stdout",
          "text": [
            "100/100 [==============================] - 1s 6ms/step - loss: 0.2020 - accuracy: 0.9559\n",
            "100/100 [==============================] - 1s 3ms/step\n"
          ]
        }
      ],
      "source": [
        "# Evaluate the model\n",
        "loss, accuracy = model.evaluate(test_sequences_matrix, df_test['clickbait'])\n",
        "\n",
        "# Make predictions\n",
        "y_pred = model.predict(test_sequences_matrix)\n",
        "y_pred_binary = (y_pred > 0.5).astype(int)"
      ]
    },
    {
      "cell_type": "code",
      "execution_count": 11,
      "metadata": {
        "id": "ZE612qSOw2QH",
        "colab": {
          "base_uri": "https://localhost:8080/"
        },
        "outputId": "84cae5f8-303f-49fd-e80e-2f68c0c8830f"
      },
      "outputs": [
        {
          "output_type": "stream",
          "name": "stdout",
          "text": [
            "Classification Report for LSTM:\n",
            "              precision    recall  f1-score   support\n",
            "\n",
            "           0       0.96      0.96      0.96      1600\n",
            "           1       0.96      0.95      0.96      1600\n",
            "\n",
            "    accuracy                           0.96      3200\n",
            "   macro avg       0.96      0.96      0.96      3200\n",
            "weighted avg       0.96      0.96      0.96      3200\n",
            "\n"
          ]
        }
      ],
      "source": [
        "print('Classification Report for LSTM:')\n",
        "print(classification_report(df_test['clickbait'], y_pred_binary))"
      ]
    },
    {
      "cell_type": "code",
      "execution_count": 12,
      "metadata": {
        "id": "RHNCFDl7qcus",
        "colab": {
          "base_uri": "https://localhost:8080/",
          "height": 582
        },
        "outputId": "4a976f41-2da9-45ad-f045-69742beea916"
      },
      "outputs": [
        {
          "output_type": "display_data",
          "data": {
            "text/plain": [
              "<Figure size 800x600 with 2 Axes>"
            ],
            "image/png": "[encoded data removed]"
          },
          "metadata": {}
        },
        {
          "output_type": "stream",
          "name": "stdout",
          "text": [
            "0.9559375\n"
          ]
        }
      ],
      "source": [
        "# Create the confusion matrix\n",
        "cm = metrics.confusion_matrix(df_test['clickbait'], y_pred_binary)\n",
        "\n",
        "# Create a heatmap to visualize the confusion matrix\n",
        "plt.figure(figsize=(8, 6))\n",
        "plt.imshow(cm, interpolation='nearest', cmap=plt.cm.Blues)\n",
        "plt.colorbar()\n",
        "\n",
        "# Add labels and ticks\n",
        "classes = [0, 1]  # Replace with your class labels\n",
        "tick_marks = np.arange(len(classes))\n",
        "plt.xticks(tick_marks, classes)\n",
        "plt.yticks(tick_marks, classes)\n",
        "\n",
        "plt.xlabel(\"Predicted\")\n",
        "plt.ylabel(\"Actual\")\n",
        "plt.title(\"Confusion Matrix for LSTM\")\n",
        "\n",
        "# Annotate the heatmap with the counts\n",
        "thresh = cm.max() / 2\n",
        "for i in range(len(classes)):\n",
        "    for j in range(len(classes)):\n",
        "        plt.text(j, i, format(cm[i, j], 'd'),\n",
        "                 ha=\"center\", va=\"center\",\n",
        "                 color=\"white\" if cm[i, j] > thresh else \"black\")\n",
        "\n",
        "plt.show()\n",
        "print(metrics.accuracy_score(df_test['clickbait'], y_pred_binary))\n",
        "\n"
      ]
    },
    {
      "cell_type": "code",
      "source": [
        "cm = metrics.confusion_matrix(df_test['clickbait'], y_pred_binary)\n",
        "cm"
      ],
      "metadata": {
        "id": "RNupqDdPaKK_",
        "colab": {
          "base_uri": "https://localhost:8080/"
        },
        "outputId": "0b2b2864-5b79-4565-ad30-e9c9f4140e9e"
      },
      "execution_count": 13,
      "outputs": [
        {
          "output_type": "execute_result",
          "data": {
            "text/plain": [
              "array([[1531,   69],\n",
              "       [  72, 1528]])"
            ]
          },
          "metadata": {},
          "execution_count": 13
        }
      ]
    },
    {
      "cell_type": "code",
      "execution_count": 14,
      "metadata": {
        "id": "rKFjmUxMr8lo",
        "colab": {
          "base_uri": "https://localhost:8080/"
        },
        "outputId": "69802ec5-6af9-4a89-bcda-f664c49028ef"
      },
      "outputs": [
        {
          "output_type": "stream",
          "name": "stdout",
          "text": [
            "ROC AUC : 0.9559\n"
          ]
        }
      ],
      "source": [
        "from sklearn.metrics import roc_auc_score\n",
        "\n",
        "ROC_AUC = roc_auc_score(df_test['clickbait'], y_pred_binary)\n",
        "\n",
        "print('ROC AUC : {:.4f}'.format(ROC_AUC))"
      ]
    }
  ],
  "metadata": {
    "colab": {
      "provenance": [],
      "gpuType": "T4"
    },
    "kernelspec": {
      "display_name": "Python 3",
      "name": "python3"
    },
    "language_info": {
      "name": "python"
    },
    "accelerator": "GPU"
  },
  "nbformat": 4,
  "nbformat_minor": 0
}